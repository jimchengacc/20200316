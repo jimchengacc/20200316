{
 "cells": [
  {
   "cell_type": "code",
   "execution_count": 2,
   "metadata": {},
   "outputs": [
    {
     "data": {
      "text/html": [
       "<div>\n",
       "<style scoped>\n",
       "    .dataframe tbody tr th:only-of-type {\n",
       "        vertical-align: middle;\n",
       "    }\n",
       "\n",
       "    .dataframe tbody tr th {\n",
       "        vertical-align: top;\n",
       "    }\n",
       "\n",
       "    .dataframe thead th {\n",
       "        text-align: right;\n",
       "    }\n",
       "</style>\n",
       "<table border=\"1\" class=\"dataframe\">\n",
       "  <thead>\n",
       "    <tr style=\"text-align: right;\">\n",
       "      <th></th>\n",
       "      <th>Date</th>\n",
       "      <th>Page_Name</th>\n",
       "      <th>Page_ID</th>\n",
       "      <th>Link</th>\n",
       "      <th>Type</th>\n",
       "      <th>All_Reaction_Count</th>\n",
       "      <th>LIKE_COUNT</th>\n",
       "      <th>WOW_COUNT</th>\n",
       "      <th>LOVE_COUNT</th>\n",
       "      <th>HAHA_COUNT</th>\n",
       "      <th>SAD_COUNT</th>\n",
       "      <th>ANGRY_COUNT</th>\n",
       "      <th>Comment_Count</th>\n",
       "      <th>Share_Count</th>\n",
       "      <th>Message</th>\n",
       "      <th>Link_Title</th>\n",
       "      <th>Link Description</th>\n",
       "      <th>created_time</th>\n",
       "    </tr>\n",
       "  </thead>\n",
       "  <tbody>\n",
       "    <tr>\n",
       "      <th>0</th>\n",
       "      <td>2020/01/11 23:00:48</td>\n",
       "      <td>蔡英文 Tsai Ing-wen</td>\n",
       "      <td>46251501064</td>\n",
       "      <td>NaN</td>\n",
       "      <td>photo</td>\n",
       "      <td>444772</td>\n",
       "      <td>402499</td>\n",
       "      <td>139</td>\n",
       "      <td>40762</td>\n",
       "      <td>1050</td>\n",
       "      <td>119</td>\n",
       "      <td>203</td>\n",
       "      <td>24666</td>\n",
       "      <td>20125</td>\n",
       "      <td>今天晚上，是屬於全體台灣人民的晚上。謝謝台灣人民的勇氣，謝謝台灣人民的堅持。\\n　　\\n各位...</td>\n",
       "      <td>NaN</td>\n",
       "      <td>NaN</td>\n",
       "      <td>1578754848000</td>\n",
       "    </tr>\n",
       "  </tbody>\n",
       "</table>\n",
       "</div>"
      ],
      "text/plain": [
       "                  Date         Page_Name      Page_ID  Link   Type  \\\n",
       "0  2020/01/11 23:00:48  蔡英文 Tsai Ing-wen  46251501064   NaN  photo   \n",
       "\n",
       "   All_Reaction_Count  LIKE_COUNT  WOW_COUNT  LOVE_COUNT  HAHA_COUNT  \\\n",
       "0              444772      402499        139       40762        1050   \n",
       "\n",
       "   SAD_COUNT  ANGRY_COUNT  Comment_Count  Share_Count  \\\n",
       "0        119          203          24666        20125   \n",
       "\n",
       "                                             Message Link_Title  \\\n",
       "0  今天晚上，是屬於全體台灣人民的晚上。謝謝台灣人民的勇氣，謝謝台灣人民的堅持。\\n　　\\n各位...        NaN   \n",
       "\n",
       "  Link Description   created_time  \n",
       "0              NaN  1578754848000  "
      ]
     },
     "execution_count": 2,
     "metadata": {},
     "output_type": "execute_result"
    }
   ],
   "source": [
    "import pandas as pd\n",
    "csv_file = \"10802_2020pscf.csv\"\n",
    "df = pd.read_csv(csv_file)\n",
    "\n",
    "df.head(1)\n"
   ]
  },
  {
   "cell_type": "code",
   "execution_count": 3,
   "metadata": {},
   "outputs": [
    {
     "data": {
      "text/plain": [
       "pandas.core.frame.DataFrame"
      ]
     },
     "execution_count": 3,
     "metadata": {},
     "output_type": "execute_result"
    }
   ],
   "source": [
    "ser_a = df['Date']\n",
    "type(ser_a)\n",
    "\n",
    "df_a = pd.DataFrame(df['Date'])\n",
    "type(df_a)"
   ]
  },
  {
   "cell_type": "code",
   "execution_count": 5,
   "metadata": {},
   "outputs": [
    {
     "data": {
      "text/html": [
       "<div>\n",
       "<style scoped>\n",
       "    .dataframe tbody tr th:only-of-type {\n",
       "        vertical-align: middle;\n",
       "    }\n",
       "\n",
       "    .dataframe tbody tr th {\n",
       "        vertical-align: top;\n",
       "    }\n",
       "\n",
       "    .dataframe thead th {\n",
       "        text-align: right;\n",
       "    }\n",
       "</style>\n",
       "<table border=\"1\" class=\"dataframe\">\n",
       "  <thead>\n",
       "    <tr style=\"text-align: right;\">\n",
       "      <th></th>\n",
       "      <th>Date</th>\n",
       "      <th>Page_Name</th>\n",
       "      <th>Page_ID</th>\n",
       "      <th>Link</th>\n",
       "      <th>Type</th>\n",
       "      <th>All_Reaction_Count</th>\n",
       "      <th>LIKE_COUNT</th>\n",
       "      <th>WOW_COUNT</th>\n",
       "      <th>LOVE_COUNT</th>\n",
       "      <th>HAHA_COUNT</th>\n",
       "      <th>SAD_COUNT</th>\n",
       "      <th>ANGRY_COUNT</th>\n",
       "      <th>Comment_Count</th>\n",
       "      <th>Share_Count</th>\n",
       "      <th>Message</th>\n",
       "      <th>Link_Title</th>\n",
       "      <th>Link Description</th>\n",
       "      <th>created_time</th>\n",
       "    </tr>\n",
       "  </thead>\n",
       "  <tbody>\n",
       "    <tr>\n",
       "      <th>1679</th>\n",
       "      <td>2019/04/07 20:29:26</td>\n",
       "      <td>宋楚瑜找朋友</td>\n",
       "      <td>491399324358361</td>\n",
       "      <td>NaN</td>\n",
       "      <td>link</td>\n",
       "      <td>203</td>\n",
       "      <td>200</td>\n",
       "      <td>0</td>\n",
       "      <td>3</td>\n",
       "      <td>0</td>\n",
       "      <td>0</td>\n",
       "      <td>0</td>\n",
       "      <td>7</td>\n",
       "      <td>0</td>\n",
       "      <td>收假的夜晚，大家不妨在待會21:40-22:00，收看美國之音節目《海峽論談》，今晚將播出美...</td>\n",
       "      <td>美国之音中文网</td>\n",
       "      <td>美国之音中文官方脸书</td>\n",
       "      <td>1554640166000</td>\n",
       "    </tr>\n",
       "    <tr>\n",
       "      <th>1680</th>\n",
       "      <td>2020/01/01 11:55:23</td>\n",
       "      <td>宋楚瑜找朋友</td>\n",
       "      <td>491399324358361</td>\n",
       "      <td>NaN</td>\n",
       "      <td>photo</td>\n",
       "      <td>85</td>\n",
       "      <td>75</td>\n",
       "      <td>0</td>\n",
       "      <td>10</td>\n",
       "      <td>0</td>\n",
       "      <td>0</td>\n",
       "      <td>0</td>\n",
       "      <td>21</td>\n",
       "      <td>1</td>\n",
       "      <td>NaN</td>\n",
       "      <td>宋楚瑜找朋友's cover photo</td>\n",
       "      <td>NaN</td>\n",
       "      <td>1577850923000</td>\n",
       "    </tr>\n",
       "    <tr>\n",
       "      <th>1681</th>\n",
       "      <td>2019/12/22 09:33:17</td>\n",
       "      <td>蔡英文 Tsai Ing-wen</td>\n",
       "      <td>46251501064</td>\n",
       "      <td>NaN</td>\n",
       "      <td>video</td>\n",
       "      <td>60</td>\n",
       "      <td>59</td>\n",
       "      <td>0</td>\n",
       "      <td>1</td>\n",
       "      <td>0</td>\n",
       "      <td>0</td>\n",
       "      <td>0</td>\n",
       "      <td>0</td>\n",
       "      <td>0</td>\n",
       "      <td>選戰倒數20天，現在 陳建仁 Chen Chien-Jen副總統以及 賴清德副總統候選人，將...</td>\n",
       "      <td>2020 小英發言人</td>\n",
       "      <td>選戰倒數20天，現在陳建仁副總統以及賴清德副總統候選人，將領軍陪同我們雙北的立委候選人進行車...</td>\n",
       "      <td>1576978397000</td>\n",
       "    </tr>\n",
       "    <tr>\n",
       "      <th>1682</th>\n",
       "      <td>2019/04/12 04:01:08</td>\n",
       "      <td>韓國瑜</td>\n",
       "      <td>1863023523934803</td>\n",
       "      <td>NaN</td>\n",
       "      <td>video</td>\n",
       "      <td>55</td>\n",
       "      <td>52</td>\n",
       "      <td>0</td>\n",
       "      <td>2</td>\n",
       "      <td>0</td>\n",
       "      <td>1</td>\n",
       "      <td>0</td>\n",
       "      <td>2</td>\n",
       "      <td>1</td>\n",
       "      <td>想當年在政大東亞所讀書的時候，哈佛大學費正清研究中心之於我，就像南極大陸之於一名極限探險家一...</td>\n",
       "      <td>NaN</td>\n",
       "      <td>NaN</td>\n",
       "      <td>1555012868000</td>\n",
       "    </tr>\n",
       "    <tr>\n",
       "      <th>1683</th>\n",
       "      <td>2020/01/24 07:33:45</td>\n",
       "      <td>宋楚瑜找朋友</td>\n",
       "      <td>491399324358361</td>\n",
       "      <td>NaN</td>\n",
       "      <td>photo</td>\n",
       "      <td>60</td>\n",
       "      <td>51</td>\n",
       "      <td>0</td>\n",
       "      <td>8</td>\n",
       "      <td>0</td>\n",
       "      <td>1</td>\n",
       "      <td>0</td>\n",
       "      <td>2</td>\n",
       "      <td>1</td>\n",
       "      <td>NaN</td>\n",
       "      <td>宋楚瑜找朋友's cover photo</td>\n",
       "      <td>NaN</td>\n",
       "      <td>1579822425000</td>\n",
       "    </tr>\n",
       "  </tbody>\n",
       "</table>\n",
       "</div>"
      ],
      "text/plain": [
       "                     Date         Page_Name           Page_ID  Link   Type  \\\n",
       "1679  2019/04/07 20:29:26            宋楚瑜找朋友   491399324358361   NaN   link   \n",
       "1680  2020/01/01 11:55:23            宋楚瑜找朋友   491399324358361   NaN  photo   \n",
       "1681  2019/12/22 09:33:17  蔡英文 Tsai Ing-wen       46251501064   NaN  video   \n",
       "1682  2019/04/12 04:01:08               韓國瑜  1863023523934803   NaN  video   \n",
       "1683  2020/01/24 07:33:45            宋楚瑜找朋友   491399324358361   NaN  photo   \n",
       "\n",
       "      All_Reaction_Count  LIKE_COUNT  WOW_COUNT  LOVE_COUNT  HAHA_COUNT  \\\n",
       "1679                 203         200          0           3           0   \n",
       "1680                  85          75          0          10           0   \n",
       "1681                  60          59          0           1           0   \n",
       "1682                  55          52          0           2           0   \n",
       "1683                  60          51          0           8           0   \n",
       "\n",
       "      SAD_COUNT  ANGRY_COUNT  Comment_Count  Share_Count  \\\n",
       "1679          0            0              7            0   \n",
       "1680          0            0             21            1   \n",
       "1681          0            0              0            0   \n",
       "1682          1            0              2            1   \n",
       "1683          1            0              2            1   \n",
       "\n",
       "                                                Message            Link_Title  \\\n",
       "1679  收假的夜晚，大家不妨在待會21:40-22:00，收看美國之音節目《海峽論談》，今晚將播出美...               美国之音中文网   \n",
       "1680                                                NaN  宋楚瑜找朋友's cover photo   \n",
       "1681  選戰倒數20天，現在 陳建仁 Chen Chien-Jen副總統以及 賴清德副總統候選人，將...            2020 小英發言人   \n",
       "1682  想當年在政大東亞所讀書的時候，哈佛大學費正清研究中心之於我，就像南極大陸之於一名極限探險家一...                   NaN   \n",
       "1683                                                NaN  宋楚瑜找朋友's cover photo   \n",
       "\n",
       "                                       Link Description   created_time  \n",
       "1679                                         美国之音中文官方脸书  1554640166000  \n",
       "1680                                                NaN  1577850923000  \n",
       "1681  選戰倒數20天，現在陳建仁副總統以及賴清德副總統候選人，將領軍陪同我們雙北的立委候選人進行車...  1576978397000  \n",
       "1682                                                NaN  1555012868000  \n",
       "1683                                                NaN  1579822425000  "
      ]
     },
     "execution_count": 5,
     "metadata": {},
     "output_type": "execute_result"
    }
   ],
   "source": [
    "df.tail()"
   ]
  },
  {
   "cell_type": "code",
   "execution_count": 6,
   "metadata": {},
   "outputs": [
    {
     "data": {
      "text/plain": [
       "{'宋楚瑜找朋友', '蔡英文 Tsai Ing-wen', '韓國瑜'}"
      ]
     },
     "execution_count": 6,
     "metadata": {},
     "output_type": "execute_result"
    }
   ],
   "source": [
    "dff = set(df['Page_Name'])\n",
    "dff"
   ]
  },
  {
   "cell_type": "code",
   "execution_count": 7,
   "metadata": {},
   "outputs": [
    {
     "data": {
      "text/plain": [
       "Page_Name\n",
       "宋楚瑜找朋友              130\n",
       "蔡英文 Tsai Ing-wen    955\n",
       "韓國瑜                 552\n",
       "dtype: int64"
      ]
     },
     "execution_count": 7,
     "metadata": {},
     "output_type": "execute_result"
    }
   ],
   "source": [
    "party = df[(df['LIKE_COUNT'] > 1000)].groupby(\"Page_Name\")\n",
    "party.size()"
   ]
  },
  {
   "cell_type": "code",
   "execution_count": 21,
   "metadata": {},
   "outputs": [
    {
     "name": "stdout",
     "output_type": "stream",
     "text": [
      "41033358 22184286 455433\n"
     ]
    }
   ],
   "source": [
    "p1 = party.get_group(\"蔡英文 Tsai Ing-wen\")['LIKE_COUNT'].agg('sum')\n",
    "p2 = party.get_group(\"韓國瑜\")['LIKE_COUNT'].agg('sum')\n",
    "p3 = party.get_group(\"宋楚瑜找朋友\")['LIKE_COUNT'].agg('sum')\n",
    "print(p1, p2, p3)"
   ]
  },
  {
   "cell_type": "code",
   "execution_count": 20,
   "metadata": {},
   "outputs": [
    {
     "name": "stdout",
     "output_type": "stream",
     "text": [
      "41033358 22184286 455433\n"
     ]
    }
   ],
   "source": [
    "data = {'Name':['蔡英文 Tsai Ing-wen', '韓國瑜', '宋楚瑜找朋友'],\n",
    "        'LIKE':[p1, p2, p3]}\n",
    "print(p1, p2, p3)"
   ]
  },
  {
   "cell_type": "code",
   "execution_count": 17,
   "metadata": {},
   "outputs": [
    {
     "data": {
      "text/html": [
       "<div>\n",
       "<style scoped>\n",
       "    .dataframe tbody tr th:only-of-type {\n",
       "        vertical-align: middle;\n",
       "    }\n",
       "\n",
       "    .dataframe tbody tr th {\n",
       "        vertical-align: top;\n",
       "    }\n",
       "\n",
       "    .dataframe thead th {\n",
       "        text-align: right;\n",
       "    }\n",
       "</style>\n",
       "<table border=\"1\" class=\"dataframe\">\n",
       "  <thead>\n",
       "    <tr style=\"text-align: right;\">\n",
       "      <th></th>\n",
       "      <th>Name</th>\n",
       "      <th>LIKE</th>\n",
       "    </tr>\n",
       "  </thead>\n",
       "  <tbody>\n",
       "    <tr>\n",
       "      <th>0</th>\n",
       "      <td>蔡英文 Tsai Ing-wen</td>\n",
       "      <td>41033358</td>\n",
       "    </tr>\n",
       "    <tr>\n",
       "      <th>1</th>\n",
       "      <td>韓國瑜</td>\n",
       "      <td>22184286</td>\n",
       "    </tr>\n",
       "    <tr>\n",
       "      <th>2</th>\n",
       "      <td>宋楚瑜找朋友</td>\n",
       "      <td>455433</td>\n",
       "    </tr>\n",
       "  </tbody>\n",
       "</table>\n",
       "</div>"
      ],
      "text/plain": [
       "               Name      LIKE\n",
       "0  蔡英文 Tsai Ing-wen  41033358\n",
       "1               韓國瑜  22184286\n",
       "2            宋楚瑜找朋友    455433"
      ]
     },
     "execution_count": 17,
     "metadata": {},
     "output_type": "execute_result"
    }
   ],
   "source": [
    "likedata = pd.DataFrame(data)\n",
    "likedata"
   ]
  },
  {
   "cell_type": "code",
   "execution_count": 22,
   "metadata": {},
   "outputs": [
    {
     "data": {
      "text/plain": [
       "pandas.core.frame.DataFrame"
      ]
     },
     "execution_count": 22,
     "metadata": {},
     "output_type": "execute_result"
    }
   ],
   "source": [
    "ser_a = df['Date']\n",
    "type(ser_a)\n",
    "\n",
    "df_a = pd.DataFrame(df['Date'])\n",
    "type(df_a)"
   ]
  },
  {
   "cell_type": "code",
   "execution_count": 24,
   "metadata": {},
   "outputs": [
    {
     "data": {
      "text/plain": [
       "<matplotlib.axes._subplots.AxesSubplot at 0x167da3ebac8>"
      ]
     },
     "execution_count": 24,
     "metadata": {},
     "output_type": "execute_result"
    },
    {
     "data": {
      "image/png": "[encoded data removed]",
      "text/plain": [
       "<Figure size 432x288 with 1 Axes>"
      ]
     },
     "metadata": {
      "needs_background": "light"
     },
     "output_type": "display_data"
    }
   ],
   "source": [
    "import matplotlib.pyplot as plt\n",
    "plt.rcParams['font.sans-serif']=['SimHei']\n",
    "likedata.plot.bar(x='Name', y='LIKE')"
   ]
  },
  {
   "cell_type": "code",
   "execution_count": 25,
   "metadata": {},
   "outputs": [
    {
     "name": "stdout",
     "output_type": "stream",
     "text": [
      "(1684, 18)\n",
      "RangeIndex(start=0, stop=1684, step=1)\n",
      "            Page_ID  Link  All_Reaction_Count     LIKE_COUNT    WOW_COUNT  \\\n",
      "count  1.684000e+03   0.0         1684.000000    1684.000000  1684.000000   \n",
      "mean   6.619445e+14   NaN        40679.567696   37824.638361    70.519002   \n",
      "std    8.533402e+14   NaN        35327.415448   32317.909685   173.864534   \n",
      "min    4.625150e+10   NaN           55.000000      51.000000     0.000000   \n",
      "25%    4.625150e+10   NaN        19883.000000   18361.000000    16.000000   \n",
      "50%    4.625150e+10   NaN        34353.500000   32482.000000    31.000000   \n",
      "75%    1.863024e+15   NaN        51615.500000   48510.750000    67.000000   \n",
      "max    1.863024e+15   NaN       444772.000000  402499.000000  3122.000000   \n",
      "\n",
      "         LOVE_COUNT    HAHA_COUNT     SAD_COUNT   ANGRY_COUNT  Comment_Count  \\\n",
      "count   1684.000000   1684.000000   1684.000000   1684.000000    1684.000000   \n",
      "mean    1881.125297    401.686461    289.128266    212.969121    4498.988124   \n",
      "std     2684.127025   1174.141944   2175.763690   1249.158167    6595.660847   \n",
      "min        1.000000      0.000000      0.000000      0.000000       0.000000   \n",
      "25%      712.750000     61.000000      3.000000     29.000000    1177.000000   \n",
      "50%     1189.000000    143.000000      8.000000     59.000000    2634.000000   \n",
      "75%     2131.000000    301.250000     23.000000    137.000000    5500.500000   \n",
      "max    40762.000000  24642.000000  42618.000000  31234.000000  105762.000000   \n",
      "\n",
      "        Share_Count  created_time  \n",
      "count   1684.000000  1.684000e+03  \n",
      "mean    1635.188836  1.567273e+12  \n",
      "std     3024.873732  9.931448e+09  \n",
      "min        0.000000  1.546272e+12  \n",
      "25%      398.750000  1.559369e+12  \n",
      "50%      897.500000  1.569814e+12  \n",
      "75%     1770.500000  1.576198e+12  \n",
      "max    50412.000000  1.580472e+12  \n",
      "['蔡英文 Tsai Ing-wen' '韓國瑜' '宋楚瑜找朋友']\n",
      "each column has NaN\n",
      " Date                     0\n",
      "Page_Name                0\n",
      "Page_ID                  0\n",
      "Link                  1684\n",
      "Type                     0\n",
      "All_Reaction_Count       0\n",
      "LIKE_COUNT               0\n",
      "WOW_COUNT                0\n",
      "LOVE_COUNT               0\n",
      "HAHA_COUNT               0\n",
      "SAD_COUNT                0\n",
      "ANGRY_COUNT              0\n",
      "Comment_Count            0\n",
      "Share_Count              0\n",
      "Message                 38\n",
      "Link_Title             857\n",
      "Link Description      1524\n",
      "created_time             0\n",
      "dtype: int64 \n",
      "\n"
     ]
    }
   ],
   "source": [
    "print(df.shape)\n",
    "print(df.index)\n",
    "print(df.describe())\n",
    "print(df['Page_Name'].unique())\n",
    "print (\"each column has NaN\\n\", df.isnull().sum(),\"\\n\")"
   ]
  },
  {
   "cell_type": "code",
   "execution_count": 26,
   "metadata": {},
   "outputs": [
    {
     "data": {
      "text/plain": [
       "['2020', '01', '11 23:00:48']"
      ]
     },
     "execution_count": 26,
     "metadata": {},
     "output_type": "execute_result"
    }
   ],
   "source": [
    "df['Date'][0]\n",
    "df['Date'][0].split(\"/\")"
   ]
  },
  {
   "cell_type": "code",
   "execution_count": 29,
   "metadata": {},
   "outputs": [],
   "source": [
    "df['Year'] = df['Date'].apply(lambda x : x.split(\"/\")[0])"
   ]
  },
  {
   "cell_type": "code",
   "execution_count": 31,
   "metadata": {},
   "outputs": [
    {
     "name": "stdout",
     "output_type": "stream",
     "text": [
      "          Page_Name  Date  Page_ID  Link  Type  文章數  LIKE_COUNT  WOW_COUNT  \\\n",
      "0            宋楚瑜找朋友   130      130     0   130  130         130        130   \n",
      "2               韓國瑜   552      552     0   552  552         552        552   \n",
      "1  蔡英文 Tsai Ing-wen   955      955     0   955  955         955        955   \n",
      "\n",
      "   LOVE_COUNT  HAHA_COUNT  SAD_COUNT  ANGRY_COUNT  Comment_Count  Share_Count  \\\n",
      "0         130         130        130          130            130          130   \n",
      "2         552         552        552          552            552          552   \n",
      "1         955         955        955          955            955          955   \n",
      "\n",
      "   Message  Link_Title  Link Description  created_time  Year  \n",
      "0      121          68                14           130   130  \n",
      "2      541         296                52           552   552  \n",
      "1      946         439                82           955   955  \n",
      "['Page_Name' 'Date' 'Page_ID' 'Link' 'Type' '文章數' 'LIKE_COUNT' 'WOW_COUNT'\n",
      " 'LOVE_COUNT' 'HAHA_COUNT' 'SAD_COUNT' 'ANGRY_COUNT' 'Comment_Count'\n",
      " 'Share_Count' 'Message' 'Link_Title' 'Link Description' 'created_time'\n",
      " 'Year']\n"
     ]
    }
   ],
   "source": [
    "import pandas as pd\n",
    "import matplotlib.pyplot as plt\n",
    "import seaborn as sns\n",
    "import numpy as np\n",
    "\n",
    "plt.rcParams['font.sans-serif'] = ['SimHei'] \n",
    "plt.rcParams['axes.unicode_minus'] = False\n",
    "sns.set(font=['sans-serif'])\n",
    "sns.set_style(\"whitegrid\",{\"font.sans-serif\":['SimHei']})\n",
    "likedf = df[(df['LIKE_COUNT'] > 1000)].groupby(by ='Page_Name').count().reset_index().sort_values('All_Reaction_Count')\n",
    "\n",
    "\n",
    "likedf = df[(df['LIKE_COUNT'] > 1000)].groupby(by ='Page_Name').count().reset_index().sort_values('All_Reaction_Count')\n",
    "likedf = likedf.rename(columns={'All_Reaction_Count': '文章數'})\n",
    "print(likedf)\n",
    "print(likedf.columns.values)"
   ]
  },
  {
   "cell_type": "code",
   "execution_count": 32,
   "metadata": {},
   "outputs": [
    {
     "data": {
      "text/plain": [
       "<matplotlib.axes._subplots.AxesSubplot at 0x167dabcb9c8>"
      ]
     },
     "execution_count": 32,
     "metadata": {},
     "output_type": "execute_result"
    },
    {
     "data": {
      "image/png": "[encoded data removed]",
      "text/plain": [
       "<Figure size 432x288 with 1 Axes>"
      ]
     },
     "metadata": {},
     "output_type": "display_data"
    }
   ],
   "source": [
    "plt.rcParams['font.sans-serif']=['SimHei']\n",
    "\n",
    "likedf.plot.bar(x='Page_Name', y='文章數')"
   ]
  },
  {
   "cell_type": "code",
   "execution_count": 33,
   "metadata": {},
   "outputs": [
    {
     "name": "stdout",
     "output_type": "stream",
     "text": [
      "0    0.041667\n",
      "1    0.630952\n",
      "2    0.011905\n",
      "3    0.315476\n",
      "Name: Page_ID, dtype: float64\n"
     ]
    }
   ],
   "source": [
    "df = pd.read_csv(\"10802_2020pscf.csv\")\n",
    "df.head()\n",
    "likedf =  df.groupby(['Page_Name','Type']).count().reset_index()\n",
    "likedf =  likedf[likedf['Page_Name'] == '宋楚瑜找朋友']\n",
    "likedf['Page_ID'] = likedf['Page_ID'].apply(lambda x :x/likedf['Page_ID'].sum())\n",
    "print(likedf['Page_ID'])"
   ]
  },
  {
   "cell_type": "code",
   "execution_count": 34,
   "metadata": {},
   "outputs": [
    {
     "data": {
      "text/plain": [
       "([<matplotlib.patches.Wedge at 0x167dce06948>,\n",
       "  <matplotlib.patches.Wedge at 0x167dce10248>,\n",
       "  <matplotlib.patches.Wedge at 0x167dce10ac8>,\n",
       "  <matplotlib.patches.Wedge at 0x167dce19488>],\n",
       " [Text(1.0905893469510741, 0.14357881569657108, 'link'),\n",
       "  Text(-0.6858387274057755, 0.8600146742878441, 'photo'),\n",
       "  Text(-0.4772722460010841, -0.9910656906568207, 'status'),\n",
       "  Text(0.6025488674806079, -0.9202906401229108, 'video')],\n",
       " [Text(0.5948669165187676, 0.07831571765267512, '4.2%'),\n",
       "  Text(-0.37409385131224115, 0.46909891324791486, '63.1%'),\n",
       "  Text(-0.2603303160005913, -0.5405812858128112, '1.2%'),\n",
       "  Text(0.3286630186257861, -0.5019767127943149, '31.5%')])"
      ]
     },
     "execution_count": 34,
     "metadata": {},
     "output_type": "execute_result"
    },
    {
     "data": {
      "image/png": "[encoded data removed]",
      "text/plain": [
       "<Figure size 432x288 with 1 Axes>"
      ]
     },
     "metadata": {},
     "output_type": "display_data"
    }
   ],
   "source": [
    "plt.pie(likedf['Page_ID'] , labels = likedf['Type'],autopct='%1.1f%%')"
   ]
  },
  {
   "cell_type": "code",
   "execution_count": 37,
   "metadata": {},
   "outputs": [
    {
     "data": {
      "text/html": [
       "<div>\n",
       "<style scoped>\n",
       "    .dataframe tbody tr th:only-of-type {\n",
       "        vertical-align: middle;\n",
       "    }\n",
       "\n",
       "    .dataframe tbody tr th {\n",
       "        vertical-align: top;\n",
       "    }\n",
       "\n",
       "    .dataframe thead th {\n",
       "        text-align: right;\n",
       "    }\n",
       "</style>\n",
       "<table border=\"1\" class=\"dataframe\">\n",
       "  <thead>\n",
       "    <tr style=\"text-align: right;\">\n",
       "      <th></th>\n",
       "      <th>Date</th>\n",
       "      <th>Page_Name</th>\n",
       "      <th>Page_ID</th>\n",
       "      <th>Link</th>\n",
       "      <th>Type</th>\n",
       "      <th>All_Reaction_Count</th>\n",
       "      <th>LIKE_COUNT</th>\n",
       "      <th>WOW_COUNT</th>\n",
       "      <th>LOVE_COUNT</th>\n",
       "      <th>HAHA_COUNT</th>\n",
       "      <th>SAD_COUNT</th>\n",
       "      <th>ANGRY_COUNT</th>\n",
       "      <th>Comment_Count</th>\n",
       "      <th>Share_Count</th>\n",
       "      <th>Message</th>\n",
       "      <th>Link_Title</th>\n",
       "      <th>Link Description</th>\n",
       "      <th>created_time</th>\n",
       "    </tr>\n",
       "  </thead>\n",
       "  <tbody>\n",
       "    <tr>\n",
       "      <th>0</th>\n",
       "      <td>2020/01/11 23:00:48</td>\n",
       "      <td>蔡英文 Tsai Ing-wen</td>\n",
       "      <td>46251501064</td>\n",
       "      <td>NaN</td>\n",
       "      <td>photo</td>\n",
       "      <td>444772</td>\n",
       "      <td>402499</td>\n",
       "      <td>139</td>\n",
       "      <td>40762</td>\n",
       "      <td>1050</td>\n",
       "      <td>119</td>\n",
       "      <td>203</td>\n",
       "      <td>24666</td>\n",
       "      <td>20125</td>\n",
       "      <td>今天晚上，是屬於全體台灣人民的晚上。謝謝台灣人民的勇氣，謝謝台灣人民的堅持。\\n　　\\n各位...</td>\n",
       "      <td>NaN</td>\n",
       "      <td>NaN</td>\n",
       "      <td>1578754848000</td>\n",
       "    </tr>\n",
       "  </tbody>\n",
       "</table>\n",
       "</div>"
      ],
      "text/plain": [
       "                  Date         Page_Name      Page_ID  Link   Type  \\\n",
       "0  2020/01/11 23:00:48  蔡英文 Tsai Ing-wen  46251501064   NaN  photo   \n",
       "\n",
       "   All_Reaction_Count  LIKE_COUNT  WOW_COUNT  LOVE_COUNT  HAHA_COUNT  \\\n",
       "0              444772      402499        139       40762        1050   \n",
       "\n",
       "   SAD_COUNT  ANGRY_COUNT  Comment_Count  Share_Count  \\\n",
       "0        119          203          24666        20125   \n",
       "\n",
       "                                             Message Link_Title  \\\n",
       "0  今天晚上，是屬於全體台灣人民的晚上。謝謝台灣人民的勇氣，謝謝台灣人民的堅持。\\n　　\\n各位...        NaN   \n",
       "\n",
       "  Link Description   created_time  \n",
       "0              NaN  1578754848000  "
      ]
     },
     "execution_count": 37,
     "metadata": {},
     "output_type": "execute_result"
    }
   ],
   "source": [
    "csv_file = \"10802_2020pscf.csv\"\n",
    "df = pd.read_csv(csv_file)\n",
    "\n",
    "df.head(1)"
   ]
  },
  {
   "cell_type": "code",
   "execution_count": 40,
   "metadata": {},
   "outputs": [
    {
     "data": {
      "text/html": [
       "<div>\n",
       "<style scoped>\n",
       "    .dataframe tbody tr th:only-of-type {\n",
       "        vertical-align: middle;\n",
       "    }\n",
       "\n",
       "    .dataframe tbody tr th {\n",
       "        vertical-align: top;\n",
       "    }\n",
       "\n",
       "    .dataframe thead th {\n",
       "        text-align: right;\n",
       "    }\n",
       "</style>\n",
       "<table border=\"1\" class=\"dataframe\">\n",
       "  <thead>\n",
       "    <tr style=\"text-align: right;\">\n",
       "      <th></th>\n",
       "      <th>Date</th>\n",
       "      <th>Page_Name</th>\n",
       "      <th>Page_ID</th>\n",
       "      <th>Link</th>\n",
       "      <th>Type</th>\n",
       "      <th>All_Reaction_Count</th>\n",
       "      <th>LIKE_COUNT</th>\n",
       "      <th>WOW_COUNT</th>\n",
       "      <th>LOVE_COUNT</th>\n",
       "      <th>HAHA_COUNT</th>\n",
       "      <th>SAD_COUNT</th>\n",
       "      <th>ANGRY_COUNT</th>\n",
       "      <th>Comment_Count</th>\n",
       "      <th>Share_Count</th>\n",
       "      <th>Message</th>\n",
       "      <th>Link_Title</th>\n",
       "      <th>Link Description</th>\n",
       "      <th>created_time</th>\n",
       "      <th>Post_Date</th>\n",
       "      <th>Hour</th>\n",
       "    </tr>\n",
       "  </thead>\n",
       "  <tbody>\n",
       "    <tr>\n",
       "      <th>0</th>\n",
       "      <td>2020/01/11 23:00:48</td>\n",
       "      <td>蔡英文 Tsai Ing-wen</td>\n",
       "      <td>46251501064</td>\n",
       "      <td>NaN</td>\n",
       "      <td>photo</td>\n",
       "      <td>444772</td>\n",
       "      <td>402499</td>\n",
       "      <td>139</td>\n",
       "      <td>40762</td>\n",
       "      <td>1050</td>\n",
       "      <td>119</td>\n",
       "      <td>203</td>\n",
       "      <td>24666</td>\n",
       "      <td>20125</td>\n",
       "      <td>今天晚上，是屬於全體台灣人民的晚上。謝謝台灣人民的勇氣，謝謝台灣人民的堅持。\\n　　\\n各位...</td>\n",
       "      <td>NaN</td>\n",
       "      <td>NaN</td>\n",
       "      <td>1578754848000</td>\n",
       "      <td>2020/01/11</td>\n",
       "      <td>23</td>\n",
       "    </tr>\n",
       "  </tbody>\n",
       "</table>\n",
       "</div>"
      ],
      "text/plain": [
       "                  Date         Page_Name      Page_ID  Link   Type  \\\n",
       "0  2020/01/11 23:00:48  蔡英文 Tsai Ing-wen  46251501064   NaN  photo   \n",
       "\n",
       "   All_Reaction_Count  LIKE_COUNT  WOW_COUNT  LOVE_COUNT  HAHA_COUNT  \\\n",
       "0              444772      402499        139       40762        1050   \n",
       "\n",
       "   SAD_COUNT  ANGRY_COUNT  Comment_Count  Share_Count  \\\n",
       "0        119          203          24666        20125   \n",
       "\n",
       "                                             Message Link_Title  \\\n",
       "0  今天晚上，是屬於全體台灣人民的晚上。謝謝台灣人民的勇氣，謝謝台灣人民的堅持。\\n　　\\n各位...        NaN   \n",
       "\n",
       "  Link Description   created_time   Post_Date Hour  \n",
       "0              NaN  1578754848000  2020/01/11   23  "
      ]
     },
     "execution_count": 40,
     "metadata": {},
     "output_type": "execute_result"
    }
   ],
   "source": [
    "df[\"Post_Date\"] = df[\"Date\"].str.split(\" \").str.get(0).str.title() \n",
    "#df.head(1)\n",
    "\n",
    "df[\"Hour\"] = df[\"Date\"].str.split(\" \").str.get(1).str.title().str.split(\":\").str.get(0)\n",
    "df.head(1)"
   ]
  },
  {
   "cell_type": "code",
   "execution_count": 41,
   "metadata": {},
   "outputs": [
    {
     "data": {
      "text/html": [
       "<div>\n",
       "<style scoped>\n",
       "    .dataframe tbody tr th:only-of-type {\n",
       "        vertical-align: middle;\n",
       "    }\n",
       "\n",
       "    .dataframe tbody tr th {\n",
       "        vertical-align: top;\n",
       "    }\n",
       "\n",
       "    .dataframe thead th {\n",
       "        text-align: right;\n",
       "    }\n",
       "</style>\n",
       "<table border=\"1\" class=\"dataframe\">\n",
       "  <thead>\n",
       "    <tr style=\"text-align: right;\">\n",
       "      <th></th>\n",
       "      <th>Date</th>\n",
       "      <th>Page_Name</th>\n",
       "      <th>Page_ID</th>\n",
       "      <th>Link</th>\n",
       "      <th>Type</th>\n",
       "      <th>All_Reaction_Count</th>\n",
       "      <th>LIKE_COUNT</th>\n",
       "      <th>WOW_COUNT</th>\n",
       "      <th>LOVE_COUNT</th>\n",
       "      <th>HAHA_COUNT</th>\n",
       "      <th>...</th>\n",
       "      <th>ANGRY_COUNT</th>\n",
       "      <th>Comment_Count</th>\n",
       "      <th>Share_Count</th>\n",
       "      <th>Message</th>\n",
       "      <th>Link_Title</th>\n",
       "      <th>Link Description</th>\n",
       "      <th>created_time</th>\n",
       "      <th>Post_Date</th>\n",
       "      <th>Hour</th>\n",
       "      <th>Week</th>\n",
       "    </tr>\n",
       "  </thead>\n",
       "  <tbody>\n",
       "    <tr>\n",
       "      <th>0</th>\n",
       "      <td>2020-01-11 23:00:48</td>\n",
       "      <td>蔡英文 Tsai Ing-wen</td>\n",
       "      <td>46251501064</td>\n",
       "      <td>NaN</td>\n",
       "      <td>photo</td>\n",
       "      <td>444772</td>\n",
       "      <td>402499</td>\n",
       "      <td>139</td>\n",
       "      <td>40762</td>\n",
       "      <td>1050</td>\n",
       "      <td>...</td>\n",
       "      <td>203</td>\n",
       "      <td>24666</td>\n",
       "      <td>20125</td>\n",
       "      <td>今天晚上，是屬於全體台灣人民的晚上。謝謝台灣人民的勇氣，謝謝台灣人民的堅持。\\n　　\\n各位...</td>\n",
       "      <td>NaN</td>\n",
       "      <td>NaN</td>\n",
       "      <td>1578754848000</td>\n",
       "      <td>2020/01/11</td>\n",
       "      <td>23</td>\n",
       "      <td>Saturday</td>\n",
       "    </tr>\n",
       "  </tbody>\n",
       "</table>\n",
       "<p>1 rows × 21 columns</p>\n",
       "</div>"
      ],
      "text/plain": [
       "                 Date         Page_Name      Page_ID  Link   Type  \\\n",
       "0 2020-01-11 23:00:48  蔡英文 Tsai Ing-wen  46251501064   NaN  photo   \n",
       "\n",
       "   All_Reaction_Count  LIKE_COUNT  WOW_COUNT  LOVE_COUNT  HAHA_COUNT  ...  \\\n",
       "0              444772      402499        139       40762        1050  ...   \n",
       "\n",
       "   ANGRY_COUNT  Comment_Count  Share_Count  \\\n",
       "0          203          24666        20125   \n",
       "\n",
       "                                             Message Link_Title  \\\n",
       "0  今天晚上，是屬於全體台灣人民的晚上。謝謝台灣人民的勇氣，謝謝台灣人民的堅持。\\n　　\\n各位...        NaN   \n",
       "\n",
       "  Link Description   created_time   Post_Date Hour      Week  \n",
       "0              NaN  1578754848000  2020/01/11   23  Saturday  \n",
       "\n",
       "[1 rows x 21 columns]"
      ]
     },
     "execution_count": 41,
     "metadata": {},
     "output_type": "execute_result"
    }
   ],
   "source": [
    "df['Date'] = pd.to_datetime(df['Date'])\n",
    "\n",
    "df['Week'] = df['Date'].dt.strftime('%A')\n",
    "df.head(1)"
   ]
  },
  {
   "cell_type": "code",
   "execution_count": 42,
   "metadata": {},
   "outputs": [
    {
     "name": "stderr",
     "output_type": "stream",
     "text": [
      "D:\\anaconda\\lib\\site-packages\\ipykernel_launcher.py:2: FutureWarning: Indexing with multiple keys (implicitly converted to a tuple of keys) will be deprecated, use a list instead.\n",
      "  \n"
     ]
    },
    {
     "data": {
      "text/plain": [
       "<matplotlib.axes._subplots.AxesSubplot at 0x167dd03c208>"
      ]
     },
     "execution_count": 42,
     "metadata": {},
     "output_type": "execute_result"
    },
    {
     "data": {
      "image/png": "[encoded data removed]",
      "text/plain": [
       "<Figure size 432x288 with 1 Axes>"
      ]
     },
     "metadata": {},
     "output_type": "display_data"
    }
   ],
   "source": [
    "df_green = df[(df[\"Page_Name\"] == \"宋楚瑜找朋友\" )]\n",
    "like_green = df_green.groupby(df['Date'].dt.strftime('%Y/%m'))['All_Reaction_Count','LIKE_COUNT','WOW_COUNT','HAHA_COUNT','SAD_COUNT','ANGRY_COUNT','Comment_Count','Share_Count'].sum().reset_index()\n",
    "like_green\n",
    "like_green.plot(x='Date',y=['LIKE_COUNT','Comment_Count','All_Reaction_Count'])"
   ]
  },
  {
   "cell_type": "code",
   "execution_count": 45,
   "metadata": {},
   "outputs": [
    {
     "data": {
      "text/html": [
       "<div>\n",
       "<style scoped>\n",
       "    .dataframe tbody tr th:only-of-type {\n",
       "        vertical-align: middle;\n",
       "    }\n",
       "\n",
       "    .dataframe tbody tr th {\n",
       "        vertical-align: top;\n",
       "    }\n",
       "\n",
       "    .dataframe thead th {\n",
       "        text-align: right;\n",
       "    }\n",
       "</style>\n",
       "<table border=\"1\" class=\"dataframe\">\n",
       "  <thead>\n",
       "    <tr style=\"text-align: right;\">\n",
       "      <th></th>\n",
       "      <th>Week</th>\n",
       "      <th>Hour</th>\n",
       "      <th>count</th>\n",
       "    </tr>\n",
       "  </thead>\n",
       "  <tbody>\n",
       "    <tr>\n",
       "      <th>0</th>\n",
       "      <td>Friday</td>\n",
       "      <td>00</td>\n",
       "      <td>2</td>\n",
       "    </tr>\n",
       "    <tr>\n",
       "      <th>1</th>\n",
       "      <td>Friday</td>\n",
       "      <td>01</td>\n",
       "      <td>1</td>\n",
       "    </tr>\n",
       "    <tr>\n",
       "      <th>2</th>\n",
       "      <td>Friday</td>\n",
       "      <td>03</td>\n",
       "      <td>1</td>\n",
       "    </tr>\n",
       "    <tr>\n",
       "      <th>3</th>\n",
       "      <td>Friday</td>\n",
       "      <td>04</td>\n",
       "      <td>2</td>\n",
       "    </tr>\n",
       "    <tr>\n",
       "      <th>4</th>\n",
       "      <td>Friday</td>\n",
       "      <td>07</td>\n",
       "      <td>4</td>\n",
       "    </tr>\n",
       "    <tr>\n",
       "      <th>...</th>\n",
       "      <td>...</td>\n",
       "      <td>...</td>\n",
       "      <td>...</td>\n",
       "    </tr>\n",
       "    <tr>\n",
       "      <th>133</th>\n",
       "      <td>Wednesday</td>\n",
       "      <td>19</td>\n",
       "      <td>21</td>\n",
       "    </tr>\n",
       "    <tr>\n",
       "      <th>134</th>\n",
       "      <td>Wednesday</td>\n",
       "      <td>20</td>\n",
       "      <td>21</td>\n",
       "    </tr>\n",
       "    <tr>\n",
       "      <th>135</th>\n",
       "      <td>Wednesday</td>\n",
       "      <td>21</td>\n",
       "      <td>22</td>\n",
       "    </tr>\n",
       "    <tr>\n",
       "      <th>136</th>\n",
       "      <td>Wednesday</td>\n",
       "      <td>22</td>\n",
       "      <td>27</td>\n",
       "    </tr>\n",
       "    <tr>\n",
       "      <th>137</th>\n",
       "      <td>Wednesday</td>\n",
       "      <td>23</td>\n",
       "      <td>10</td>\n",
       "    </tr>\n",
       "  </tbody>\n",
       "</table>\n",
       "<p>138 rows × 3 columns</p>\n",
       "</div>"
      ],
      "text/plain": [
       "          Week Hour  count\n",
       "0       Friday   00      2\n",
       "1       Friday   01      1\n",
       "2       Friday   03      1\n",
       "3       Friday   04      2\n",
       "4       Friday   07      4\n",
       "..         ...  ...    ...\n",
       "133  Wednesday   19     21\n",
       "134  Wednesday   20     21\n",
       "135  Wednesday   21     22\n",
       "136  Wednesday   22     27\n",
       "137  Wednesday   23     10\n",
       "\n",
       "[138 rows x 3 columns]"
      ]
     },
     "execution_count": 45,
     "metadata": {},
     "output_type": "execute_result"
    }
   ],
   "source": [
    "df_blue = df[df['Page_Name']=='宋楚瑜找朋友']\n",
    "df_post_blue = df.groupby(['Week','Hour'])['LIKE_COUNT'].count().reset_index(name='count')\n",
    "\n",
    "df_post_blue"
   ]
  },
  {
   "cell_type": "code",
   "execution_count": 46,
   "metadata": {},
   "outputs": [
    {
     "data": {
      "image/png": "[encoded data removed]",
      "text/plain": [
       "<Figure size 648x432 with 2 Axes>"
      ]
     },
     "metadata": {},
     "output_type": "display_data"
    }
   ],
   "source": [
    "flights = df_post_blue.pivot(\"Week\", \"Hour\", \"count\")\n",
    "f, ax = plt.subplots(figsize=(9, 6))\n",
    "sns.heatmap(flights, fmt=\"d\",cmap='YlGnBu', ax=ax)\n",
    "label_y = ax.get_yticklabels()\n",
    "plt.setp(label_y, rotation=360, horizontalalignment='right')\n",
    "label_x = ax.get_xticklabels()\n",
    "plt.setp(label_x, rotation=45, horizontalalignment='right')\n",
    "plt.show()"
   ]
  }
 ],
 "metadata": {
  "kernelspec": {
   "display_name": "Python 3",
   "language": "python",
   "name": "python3"
  },
  "language_info": {
   "codemirror_mode": {
    "name": "ipython",
    "version": 3
   },
   "file_extension": ".py",
   "mimetype": "text/x-python",
   "name": "python",
   "nbconvert_exporter": "python",
   "pygments_lexer": "ipython3",
   "version": "3.7.6"
  }
 },
 "nbformat": 4,
 "nbformat_minor": 4
}
